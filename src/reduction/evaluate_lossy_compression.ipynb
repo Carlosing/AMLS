{
 "cells": [
  {
   "cell_type": "markdown",
   "id": "9c0abb7f",
   "metadata": {},
   "source": [
    "# Evaluate the best lossy compression for a sample ECG signal using mean absolute error (MAE) and mean squared error (MSE)."
   ]
  },
  {
   "cell_type": "code",
   "execution_count": null,
   "id": "04b14356",
   "metadata": {
    "vscode": {
     "languageId": "plaintext"
    }
   },
   "outputs": [],
   "source": [
    "import numpy as np\n",
    "from scipy.fft import fft, ifft\n",
    "from sklearn.metrics import mean_absolute_error, mean_squared_error"
   ]
  },
  {
   "cell_type": "markdown",
   "id": "0ca72d92",
   "metadata": {},
   "source": [
    "# Functions for all methods:"
   ]
  },
  {
   "cell_type": "code",
   "execution_count": null,
   "id": "f8f6dd98",
   "metadata": {
    "vscode": {
     "languageId": "plaintext"
    }
   },
   "outputs": [],
   "source": [
    "def piecewise_constant_approx(signal, segments):\n",
    "    n = len(signal)\n",
    "    seg_len = n // segments\n",
    "    approx = np.zeros(n)\n",
    "    for i in range(segments):\n",
    "        start = i * seg_len\n",
    "        end = (i + 1) * seg_len if i < segments - 1 else n\n",
    "        approx[start:end] = np.mean(signal[start:end])\n",
    "    return approx\n",
    "\n",
    "\n",
    "def piecewise_linear_approx(signal, segments):\n",
    "    n = len(signal)\n",
    "    seg_len = n // segments\n",
    "    approx = np.zeros(n)\n",
    "    for i in range(segments):\n",
    "        start = i * seg_len\n",
    "        end = (i + 1) * seg_len if i < segments - 1 else n\n",
    "        x = np.arange(start, end)\n",
    "        y = signal[start:end]\n",
    "        if len(x) > 1:\n",
    "            p = np.polyfit(x, y, 1)\n",
    "            approx[start:end] = np.polyval(p, x)\n",
    "        else:\n",
    "            approx[start:end] = y\n",
    "    return approx\n",
    "\n",
    "\n",
    "def quantize_signal(signal, num_levels=32):\n",
    "    min_val, max_val = np.min(signal), np.max(signal)\n",
    "    bins = np.linspace(min_val, max_val, num_levels)\n",
    "    quantized = np.digitize(signal, bins) - 1\n",
    "    return bins[quantized]\n",
    "\n",
    "\n",
    "def line_simplify(signal, tolerance=5.0):\n",
    "    from rdp import rdp\n",
    "    points = np.column_stack((np.arange(len(signal)), signal))\n",
    "    simplified = rdp(points, epsilon=tolerance)\n",
    "    result = np.interp(np.arange(len(signal)), simplified[:, 0], simplified[:, 1])\n",
    "    return result"
   ]
  },
  {
   "cell_type": "markdown",
   "id": "5e050e47",
   "metadata": {},
   "source": [
    "# Evaluate with a threshold"
   ]
  },
  {
   "cell_type": "code",
   "execution_count": null,
   "id": "42c980d7",
   "metadata": {
    "vscode": {
     "languageId": "plaintext"
    }
   },
   "outputs": [],
   "source": [
    "def fft_threshold(signal, keep_ratio=0.1):\n",
    "    fft_vals = fft(signal)\n",
    "    mag = np.abs(fft_vals)\n",
    "    threshold = np.quantile(mag, 1 - keep_ratio)\n",
    "    fft_vals[mag < threshold] = 0\n",
    "    return np.real(ifft(fft_vals))\n",
    "\n",
    "\n",
    "def evaluate_compression(original, compressed):\n",
    "    mae = mean_absolute_error(original, compressed)\n",
    "    mse = mean_squared_error(original, compressed)\n",
    "    return mae, mse\n",
    "\n",
    "    from compression.lossy_methods import *"
   ]
  },
  {
   "cell_type": "markdown",
   "id": "4660728e",
   "metadata": {},
   "source": [
    "# Print results"
   ]
  },
  {
   "cell_type": "code",
   "execution_count": null,
   "id": "82fab319",
   "metadata": {
    "vscode": {
     "languageId": "plaintext"
    }
   },
   "outputs": [],
   "source": [
    "# Sample ECG signal\n",
    "signal = np.array(X_train[0])\n",
    "\n",
    "# Run all techniques\n",
    "methods = {\n",
    "    \"PCA\": piecewise_constant_approx(signal, segments=50),\n",
    "    \"PLA\": piecewise_linear_approx(signal, segments=50),\n",
    "    \"Quant\": quantize_signal(signal, num_levels=32),\n",
    "    \"LineSimplify\": line_simplify(signal, tolerance=5),\n",
    "    \"FFT\": fft_threshold(signal, keep_ratio=0.1),\n",
    "}\n",
    "\n",
    "# Evaluate\n",
    "for name, compressed in methods.items():\n",
    "    mae, mse = evaluate_compression(signal, compressed)\n",
    "    print(f\"{name}: MAE = {mae:.2f}, MSE = {mse:.2f}\")"
   ]
  }
 ],
 "metadata": {
  "language_info": {
   "name": "python"
  }
 },
 "nbformat": 4,
 "nbformat_minor": 5
}
