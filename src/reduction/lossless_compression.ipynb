{
  "nbformat": 4,
  "nbformat_minor": 0,
  "metadata": {
    "colab": {
      "provenance": []
    },
    "kernelspec": {
      "name": "python3",
      "display_name": "Python 3"
    },
    "language_info": {
      "name": "python"
    }
  },
  "cells": [
    {
      "cell_type": "markdown",
      "source": [
        "Step 1: Delta Encoding (PDELTA)\n",
        "Instead of storing raw values like [1023, 1027, 1028, 1030], you store the first value and differences:\n",
        "\n",
        "python\n",
        "Copy\n",
        "Edit\n",
        "original:     [1023, 1027, 1028, 1030]\n",
        "delta-encoded:[1023,   +4,   +1,   +2]\n",
        "Most deltas are small (±2–20), so we can store them with fewer bits (e.g., 6–8 bits instead of 16)."
      ],
      "metadata": {
        "id": "iClL3n777Cro"
      }
    },
    {
      "cell_type": "markdown",
      "source": [
        "Step 2: Bit Packing (PFOR-style)\n",
        "Figure out the minimum number of bits needed to represent most deltas (say, 8 bits).\n",
        "\n",
        "Use 8-bit integers (int8) to store them.\n",
        "\n",
        "Store outliers separately using exceptions (e.g., larger-than-allowed deltas)."
      ],
      "metadata": {
        "id": "sPiYYyLW7JXf"
      }
    },
    {
      "cell_type": "markdown",
      "source": [
        "Compress & Decompress Functions\n",
        "Here’s a minimal proof-of-concept using delta + 8-bit compression."
      ],
      "metadata": {
        "id": "o9hHF99J7KEi"
      }
    },
    {
      "cell_type": "code",
      "source": [
        "import struct\n",
        "import numpy as np\n",
        "\n",
        "def compress_signal(signal):\n",
        "    if not signal:\n",
        "        return b''\n",
        "\n",
        "    first_val = signal[0]\n",
        "    deltas = np.diff(signal, prepend=first_val)\n",
        "\n",
        "    # Bit-pack into int8 if deltas are small enough\n",
        "    deltas_i8 = deltas.astype(np.int8)\n",
        "\n",
        "    # Detect overflows (i.e., where delta_i8 != delta_true)\n",
        "    overflow_mask = deltas_i8 != deltas\n",
        "    num_overflows = np.sum(overflow_mask)\n",
        "\n",
        "    compressed = struct.pack('<h', first_val)  # Store first value (16-bit)\n",
        "    compressed += deltas_i8.tobytes()\n",
        "\n",
        "    if num_overflows > 0:\n",
        "        # Store indices and true deltas for overflows\n",
        "        overflow_indices = np.where(overflow_mask)[0]\n",
        "        overflow_deltas = deltas[overflow_mask]\n",
        "        compressed += struct.pack('<I', num_overflows)\n",
        "        compressed += struct.pack(f'<{num_overflows}I', *overflow_indices)\n",
        "        compressed += struct.pack(f'<{num_overflows}h', *overflow_deltas)\n",
        "    else:\n",
        "        compressed += struct.pack('<I', 0)  # No overflows\n",
        "\n",
        "    return compressed\n"
      ],
      "metadata": {
        "id": "pVfFtZN57Phx"
      },
      "execution_count": null,
      "outputs": []
    },
    {
      "cell_type": "code",
      "source": [
        "def decompress_signal(data, length):\n",
        "    offset = 0\n",
        "    first_val = struct.unpack_from('<h', data, offset)[0]\n",
        "    offset += 2\n",
        "\n",
        "    # Load deltas as int8\n",
        "    deltas = np.frombuffer(data[offset:offset+length], dtype=np.int8)\n",
        "    offset += length\n",
        "\n",
        "    # Load overflow metadata\n",
        "    num_overflows = struct.unpack_from('<I', data, offset)[0]\n",
        "    offset += 4\n",
        "\n",
        "    if num_overflows > 0:\n",
        "        overflow_indices = struct.unpack_from(f'<{num_overflows}I', data, offset)\n",
        "        offset += 4 * num_overflows\n",
        "        overflow_deltas = struct.unpack_from(f'<{num_overflows}h', data, offset)\n",
        "\n",
        "        # Correct overflowed deltas\n",
        "        for idx, val in zip(overflow_indices, overflow_deltas):\n",
        "            deltas[idx] = val\n",
        "\n",
        "    # Reconstruct signal\n",
        "    signal = np.cumsum(deltas.astype(np.int16), dtype=np.int16)\n",
        "    return signal.tolist()\n"
      ],
      "metadata": {
        "id": "HHvv4ij07TM6"
      },
      "execution_count": null,
      "outputs": []
    },
    {
      "cell_type": "code",
      "source": [
        "def write_compressed_file(path, list_of_signals):\n",
        "    with open(path, 'wb') as f:\n",
        "        for signal in list_of_signals:\n",
        "            compressed = compress_signal(signal)\n",
        "            f.write(struct.pack('<I', len(signal)))  # Original signal length\n",
        "            f.write(struct.pack('<I', len(compressed)))  # Compressed byte length\n",
        "            f.write(compressed)\n"
      ],
      "metadata": {
        "id": "RgpshYBh7VHU"
      },
      "execution_count": null,
      "outputs": []
    },
    {
      "cell_type": "code",
      "source": [
        "def read_compressed_file(path):\n",
        "    result = []\n",
        "    with open(path, 'rb') as f:\n",
        "        while True:\n",
        "            size_bytes = f.read(4)\n",
        "            if not size_bytes:\n",
        "                break\n",
        "            length = struct.unpack('<I', size_bytes)[0]\n",
        "\n",
        "            compressed_len = struct.unpack('<I', f.read(4))[0]\n",
        "            compressed_data = f.read(compressed_len)\n",
        "            signal = decompress_signal(compressed_data, length)\n",
        "            result.append(signal)\n",
        "    return result\n"
      ],
      "metadata": {
        "id": "Mbb7dc4A7XVw"
      },
      "execution_count": null,
      "outputs": []
    }
  ]
}